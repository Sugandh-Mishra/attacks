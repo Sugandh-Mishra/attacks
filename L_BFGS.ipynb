{
  "nbformat": 4,
  "nbformat_minor": 0,
  "metadata": {
    "colab": {
      "provenance": [],
      "authorship_tag": "ABX9TyNw2KIDYIjL1Q7tSNUpwYoo",
      "include_colab_link": true
    },
    "kernelspec": {
      "name": "python3",
      "display_name": "Python 3"
    },
    "language_info": {
      "name": "python"
    },
    "accelerator": "GPU",
    "gpuClass": "standard"
  },
  "cells": [
    {
      "cell_type": "markdown",
      "metadata": {
        "id": "view-in-github",
        "colab_type": "text"
      },
      "source": [
        "<a href=\"https://colab.research.google.com/github/Sugandh-Mishra/attacks/blob/main/L_BFGS.ipynb\" target=\"_parent\"><img src=\"https://colab.research.google.com/assets/colab-badge.svg\" alt=\"Open In Colab\"/></a>"
      ]
    },
    {
      "cell_type": "code",
      "execution_count": 1,
      "metadata": {
        "id": "BCZmK-VifXxx"
      },
      "outputs": [],
      "source": [
        "import tensorflow as tf\n",
        "from tensorflow import keras\n",
        "from matplotlib import pyplot as plt\n",
        "from tensorflow.keras import layers, models, datasets\n",
        "import numpy as np"
      ]
    },
    {
      "cell_type": "code",
      "source": [
        "def train_model():\n",
        "    (train_images, train_labels), (test_images, test_labels) = datasets.mnist.load_data()\n",
        "    train_images = train_images.reshape((60000, 28, 28, 1)).astype('float32') / 255.0\n",
        "    test_images = test_images.reshape((10000, 28, 28, 1)).astype('float32') / 255.0\n",
        "    \n",
        "    model = models.Sequential([\n",
        "        layers.Conv2D(32, (3, 3), activation='relu', input_shape=(28, 28, 1)),\n",
        "        layers.MaxPooling2D((2, 2)),\n",
        "        layers.Conv2D(64, (3, 3), activation='relu',padding='same'),\n",
        "        layers.MaxPooling2D((2, 2)),\n",
        "        layers.Flatten(),\n",
        "        layers.Dense(128, activation='relu'),\n",
        "        layers.Dense(10, activation='softmax')\n",
        "    ])\n",
        "\n",
        "    model.compile(optimizer='adam',\n",
        "                  loss='sparse_categorical_crossentropy',\n",
        "                  metrics=['accuracy'])\n",
        "\n",
        "    model.fit(train_images, train_labels, epochs=2, validation_data=(test_images, test_labels))\n",
        "  \n",
        "    return model, test_images, test_labels, train_images"
      ],
      "metadata": {
        "id": "NIaJauUfgBcL"
      },
      "execution_count": 2,
      "outputs": []
    },
    {
      "cell_type": "code",
      "source": [
        "model, test_images, test_labels, x_train = train_model()\n"
      ],
      "metadata": {
        "colab": {
          "base_uri": "https://localhost:8080/"
        },
        "id": "IMh42MUCgDud",
        "outputId": "6f653977-fb49-4338-ea30-8fe5d3bffd3a"
      },
      "execution_count": 3,
      "outputs": [
        {
          "output_type": "stream",
          "name": "stdout",
          "text": [
            "Downloading data from https://storage.googleapis.com/tensorflow/tf-keras-datasets/mnist.npz\n",
            "11490434/11490434 [==============================] - 0s 0us/step\n",
            "Epoch 1/2\n",
            "1875/1875 [==============================] - 28s 8ms/step - loss: 0.1241 - accuracy: 0.9612 - val_loss: 0.0415 - val_accuracy: 0.9866\n",
            "Epoch 2/2\n",
            "1875/1875 [==============================] - 8s 4ms/step - loss: 0.0424 - accuracy: 0.9865 - val_loss: 0.0379 - val_accuracy: 0.9877\n"
          ]
        }
      ]
    },
    {
      "cell_type": "code",
      "source": [
        "# # Call the L-BFGS adversarial attack function\n",
        "# adv_images, adv_probs, adv_labels = lbfgs_attack(model, test_images, test_labels, epsilon=0.01, max_iterations=100)\n",
        "\n",
        "# # Print the results\n",
        "# print(\"Adversarial Images Shape:\", adv_images.shape)\n",
        "# print(\"Adversarial Probabilities Shape:\", adv_probs.shape)\n",
        "# print(\"Adversarial Labels Shape:\", adv_labels.shape)\n"
      ],
      "metadata": {
        "id": "9hbu8qgYnf2q"
      },
      "execution_count": 4,
      "outputs": []
    },
    {
      "cell_type": "code",
      "source": [
        "# # Evaluate the accuracy of the model on the original test images\n",
        "# _, test_accuracy = model.evaluate(test_images, test_labels, verbose=0)\n",
        "# print(f\"Accuracy on original test images: {test_accuracy}\")\n",
        "\n",
        "# # Evaluate the accuracy of the model on the adversarial images\n",
        "# _, adv_accuracy = model.evaluate(adv_images, test_labels, verbose=0)\n",
        "# print(f\"Accuracy on adversarial images: {adv_accuracy}\")"
      ],
      "metadata": {
        "id": "4qpJ_o9xnGDi"
      },
      "execution_count": 5,
      "outputs": []
    },
    {
      "cell_type": "code",
      "source": [
        "# def visualize_lbfgs_attack(original_images, attacked_images, original_labels, attacked_labels, probs):\n",
        "#     num_images = len(original_images)\n",
        "#     num_rows = 10\n",
        "#     num_cols = 10\n",
        "#     fig, axes = plt.subplots(num_rows, num_cols, figsize=(12, 12))\n",
        "\n",
        "#     for i in range(num_rows):\n",
        "#         for j in range(num_cols):\n",
        "#             index = i * num_cols + j\n",
        "#             if index < num_images:\n",
        "#                 axes[i][j].imshow(original_images[index].reshape(28, 28), cmap='gray')\n",
        "#                 axes[i][j].axis('off')\n",
        "#                 if attacked_labels[index] == original_labels[index]:\n",
        "#                     # If original label is same as attacked label, display it in green color\n",
        "#                     axes[i][j].set_title(f'Original: {original_labels[index]}\\nAttacked: {attacked_labels[index]}\\nProb: {probs[index][attacked_labels[index]]:.2f}', color='green')\n",
        "#                 else:\n",
        "#                     # If original label is different from attacked label, display it in red color\n",
        "#                     axes[i][j].set_title(f'Original: {original_labels[index]}\\nAttacked: {attacked_labels[index]}\\nProb: {probs[index][attacked_labels[index]]:.2f}', color='red')\n",
        "#             else:\n",
        "#                 axes[i][j].axis('off')\n",
        "#     plt.tight_layout()\n",
        "#     plt.show()\n",
        "\n",
        "\n",
        "# visualize_lbfgs_attack(test_images,adv_images,test_labels,adv_labels,adv_probs)"
      ],
      "metadata": {
        "id": "ZMmWL9SSn-2u"
      },
      "execution_count": 6,
      "outputs": []
    },
    {
      "cell_type": "code",
      "source": [
        "from scipy.optimize import fmin_l_bfgs_b\n",
        "from keras.losses import categorical_crossentropy\n",
        "\n",
        "\n",
        "# Define the functions for distance, cross-entropy loss, and total loss\n",
        "def distance(x, x1):\n",
        "    d = x - x1\n",
        "    D = np.sqrt(np.sum(d**2))\n",
        "    return D\n",
        "\n",
        "\n",
        "def cross_entropy(x1, y_prime):\n",
        "    y1 = tf.zeros((1, 10))  # Assuming 10 classes for one-hot encoding, add batch dimension\n",
        "    y1 = tf.tensor_scatter_nd_update(y1, [[0, y_prime]], [1.])  # Update y1 with 1 at y_prime index\n",
        "    yh1 = model.predict(tf.expand_dims(x1, axis=0))  # Get prediction for x1\n",
        "    ce = tf.reduce_sum(tf.keras.losses.categorical_crossentropy(y1, yh1))  # Use yh1 for x1 prediction\n",
        "    return ce\n",
        "\n",
        "\n",
        "\n",
        "\n",
        "def total_loss(x1, *args):\n",
        "    x = args[0]\n",
        "    y_prime = args[1]\n",
        "    c = args[2]\n",
        "    x_shape = x.shape\n",
        "    x1 = x1.reshape(x_shape)  # Reshape x1 to match the original input shape\n",
        "    ly = model.predict(np.array([x1, x1]))[0]\n",
        "    l_f = c * distance(x, x1) + cross_entropy(x1, y_prime)\n",
        "    return l_f\n",
        "\n",
        "def l_bfgs_attack(x, y_target, c, eps):\n",
        "    # x: Original input\n",
        "    # y_target: Target class for the attack\n",
        "    # c: Weight for the total loss\n",
        "    # eps: Epsilon for perturbation\n",
        "\n",
        "    x_shape = x.shape\n",
        "    initial = np.ones(x_shape).flatten()  # Flatten initial to match the original input shape\n",
        "    bounds = [(x.flatten()[i] - eps, x.flatten()[i] + eps) for i in range(x_shape[0] * x_shape[1])]  # Bounds for the perturbed input\n",
        "\n",
        "    x_adv, _, _ = fmin_l_bfgs_b(total_loss, x0=initial, args=(x, y_target, c), bounds=bounds, approx_grad=True)\n",
        "    x_adv = x_adv.reshape(x_shape)  # Reshape x_adv to match the original input shape\n",
        "    y_probs = model.predict(np.array([x_adv, x_adv]))  # Get predicted probabilities for x_adv\n",
        "    y_pred = np.argmax(y_probs, axis=-1)[0]  # Get predicted class label\n",
        "    distance_adv = distance(x, x_adv)\n",
        "    return x_adv, y_pred, distance_adv\n",
        "\n",
        "\n",
        "\n",
        "\n",
        "# Select a sample from the MNIST dataset\n",
        "x_sample = x_train[0]\n",
        "\n",
        "# Set the target class for the attack\n",
        "y_target = 5   \n",
        "\n",
        "# Set the weight for the total loss and epsilon for perturbation\n",
        "c = 1.0  \n",
        "eps = 0.1  \n",
        "\n",
        "x_adv, y_pred, distance_adv = l_bfgs_attack(x_sample, y_target, c, eps)\n",
        "\n"
      ],
      "metadata": {
        "id": "FO_6oN6L0KZq",
        "outputId": "7e112515-4914-46a0-af7c-4aa229708337",
        "colab": {
          "base_uri": "https://localhost:8080/"
        }
      },
      "execution_count": null,
      "outputs": [
        {
          "output_type": "stream",
          "name": "stdout",
          "text": [
            "1/1 [==============================] - 0s 143ms/step\n",
            "1/1 [==============================] - 0s 122ms/step\n",
            "1/1 [==============================] - 0s 20ms/step\n",
            "1/1 [==============================] - 0s 19ms/step\n",
            "1/1 [==============================] - 0s 19ms/step\n",
            "1/1 [==============================] - 0s 17ms/step\n",
            "1/1 [==============================] - 0s 18ms/step\n",
            "1/1 [==============================] - 0s 17ms/step\n",
            "1/1 [==============================] - 0s 18ms/step\n",
            "1/1 [==============================] - 0s 17ms/step\n",
            "1/1 [==============================] - 0s 19ms/step\n",
            "1/1 [==============================] - 0s 19ms/step\n",
            "1/1 [==============================] - 0s 19ms/step\n",
            "1/1 [==============================] - 0s 17ms/step\n",
            "1/1 [==============================] - 0s 17ms/step\n",
            "1/1 [==============================] - 0s 20ms/step\n",
            "1/1 [==============================] - 0s 19ms/step\n",
            "1/1 [==============================] - 0s 18ms/step\n",
            "1/1 [==============================] - 0s 19ms/step\n",
            "1/1 [==============================] - 0s 20ms/step\n",
            "1/1 [==============================] - 0s 19ms/step\n",
            "1/1 [==============================] - 0s 20ms/step\n",
            "1/1 [==============================] - 0s 17ms/step\n",
            "1/1 [==============================] - 0s 19ms/step\n",
            "1/1 [==============================] - 0s 18ms/step\n",
            "1/1 [==============================] - 0s 18ms/step\n",
            "1/1 [==============================] - 0s 19ms/step\n",
            "1/1 [==============================] - 0s 19ms/step\n",
            "1/1 [==============================] - 0s 29ms/step\n",
            "1/1 [==============================] - 0s 18ms/step\n",
            "1/1 [==============================] - 0s 20ms/step\n",
            "1/1 [==============================] - 0s 19ms/step\n",
            "1/1 [==============================] - 0s 17ms/step\n",
            "1/1 [==============================] - 0s 18ms/step\n"
          ]
        }
      ]
    },
    {
      "cell_type": "code",
      "source": [
        "\n",
        "# Print the results\n",
        "print('--- Results ---')\n",
        "# x_print = model.predict(tf.expand_dims(x_sample, axis=0))  \n",
        "# print(x_print)\n",
        "\n",
        "print('Original Input: x_sample')\n",
        "print(x_sample)\n",
        "# print(model.predict(x_sample))\n",
        "# y=model.predict(x_sample)\n",
        "# print(np.argmax(y[0]))\n",
        "print('Target Class for Attack: y_target')\n",
        "print(y_target)\n",
        "print('Weight for Total Loss: c')\n",
        "print(c)\n",
        "print('Epsilon for Perturbation: eps')\n",
        "print(eps)\n",
        "# print('Adversarial Input: x_adv')\n",
        "# print(x_adv)\n",
        "print('Predicted Class for Adversarial Input: y_pred')\n",
        "print(y_pred)\n",
        "print('Distance between Original Input and Adversarial Input: distance_adv')\n",
        "print(distance_adv)"
      ],
      "metadata": {
        "id": "oNvHyVfv6v_f"
      },
      "execution_count": null,
      "outputs": []
    }
  ]
}