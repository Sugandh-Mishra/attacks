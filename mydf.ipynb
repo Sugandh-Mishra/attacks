
{
  "nbformat": 4,
  "nbformat_minor": 0,
  "metadata": {
    "colab": {
      "provenance": [],
      "authorship_tag": "ABX9TyMFVaMjo24O8ZG6O7RiPE/L",
      "include_colab_link": true
    },
    "kernelspec": {
      "name": "python3",
      "display_name": "Python 3"
    },
    "language_info": {
      "name": "python"
    },
    "accelerator": "GPU",
    "gpuClass": "standard"
  },
  "cells": [
    {
      "cell_type": "markdown",
      "metadata": {
        "id": "view-in-github",
        "colab_type": "text"
      },
      "source": [
        "<a href=\"https://colab.research.google.com/github/Sugandh-Mishra/attacks/blob/main/mydf.ipynb\" target=\"_parent\"><img src=\"https://colab.research.google.com/assets/colab-badge.svg\" alt=\"Open In Colab\"/></a>"
      ]
    },
    {
      "cell_type": "code",
      "execution_count": 121,
      "metadata": {
        "id": "XlY-pKb2zTaz"
      },
      "outputs": [],
      "source": [
        "import tensorflow as tf\n",
        "from tensorflow import keras\n",
        "from matplotlib import pyplot as plt\n",
        "from tensorflow.keras import layers, models, datasets\n",
        "import numpy as np"
      ]
    },
    {
      "cell_type": "code",
      "source": [
        "def train_model():\n",
        "    (train_images, train_labels), (test_images, test_labels) = datasets.mnist.load_data()\n",
        "    train_images = train_images.reshape((60000, 28, 28, 1)).astype('float32') / 255.0\n",
        "    test_images = test_images.reshape((10000, 28, 28, 1)).astype('float32') / 255.0\n",
        "    \n",
        "    model = models.Sequential([\n",
        "        layers.Conv2D(32, (3, 3), activation='relu', input_shape=(28, 28, 1)),\n",
        "        layers.MaxPooling2D((2, 2)),\n",
        "        layers.Conv2D(64, (3, 3), activation='relu',padding='same'),\n",
        "        layers.MaxPooling2D((2, 2)),\n",
        "        layers.Flatten(),\n",
        "        layers.Dense(128, activation='relu'),\n",
        "        layers.Dense(10, activation='softmax')\n",
        "    ])\n",
        "\n",
        "    model.compile(optimizer='adam',\n",
        "                  loss='sparse_categorical_crossentropy',\n",
        "                  metrics=['accuracy'])\n",
        "\n",
        "    model.fit(train_images, train_labels, epochs=5, validation_data=(test_images, test_labels))\n",
        "  \n",
        "    return model, test_images, test_labels, train_images\n",
        "\n"
      ],
      "metadata": {
        "id": "eHFBEC4DzUcY"
      },
      "execution_count": 122,
      "outputs": []
    },
    {
      "cell_type": "code",
      "source": [
        "def deepfool_binary(model, x, epochs, eta, clip_min, clip_max, min_prob):\n",
        "    \"\"\"\n",
        "    Applies the DeepFool attack to a binary classifier.\n",
        "    \n",
        "    Arguments:\n",
        "        model: A binary TensorFlow Keras model.\n",
        "        x: The input image to attack.\n",
        "        epochs: The number of epochs to run the attack for.\n",
        "        eta: The step size for the attack. overshoot\n",
        "        clip_min: The minimum pixel value allowed.\n",
        "        clip_max: The maximum pixel value allowed.\n",
        "        min_prob: The minimum probability of the target class allowed.\n",
        "        \n",
        "    Returns:\n",
        "        An adversarial example for the input image.\n",
        "    \"\"\"\n",
        "    \n",
        "    x_adv = tf.identity(x)  # Start with a copy of the input image\n",
        "    \n",
        "    for _ in range(epochs):\n",
        "        # Compute the gradient of the loss with respect to the input\n",
        "        with tf.GradientTape() as tape:\n",
        "            tape.watch(x_adv)\n",
        "            logits = model(x_adv, training=False)\n",
        "            loss = tf.keras.losses.binary_crossentropy(tf.constant([1.0]), logits, from_logits=True)\n",
        "        grad = tape.gradient(loss, x_adv)\n",
        "\n",
        "        # Compute the L2 norm of the gradient\n",
        "        norm = tf.norm(tf.reshape(grad, [-1]))\n",
        "\n",
        "        # Choose the minimum perturbation direction\n",
        "        min_perturbation = float('inf')\n",
        "        min_adv = None\n",
        "        for target in [0, 1]:\n",
        "            if target == 0:\n",
        "                true_label = 1\n",
        "            else:\n",
        "                true_label = 0\n",
        "            if logits[0][target] > min_prob and target != true_label:\n",
        "                w = tf.reshape(model.weights[0], [-1])\n",
        "                f = tf.reduce_sum(tf.reshape(x_adv, [-1]) * w) + model.weights[1]\n",
        "                f_prime = tf.reduce_sum(w * tf.reshape(grad, [-1]))\n",
        "                perturbation = tf.abs((f - f_prime) / norm**2) * tf.reshape(grad, tf.shape(x_adv))\n",
        "                perturbation_norm = tf.norm(tf.reshape(perturbation, [-1]))\n",
        "                if perturbation_norm < min_perturbation:\n",
        "                    min_perturbation = perturbation_norm\n",
        "                    min_adv = x_adv + eta * tf.clip_by_value(perturbation, clip_min, clip_max) / perturbation_norm\n",
        "\n",
        "        # Update the adversarial example\n",
        "        x_adv = tf.clip_by_value(min_adv, clip_min, clip_max)\n",
        "\n",
        "    return x_adv\n"
      ],
      "metadata": {
        "id": "qgjQhb27zWmf"
      },
      "execution_count": 123,
      "outputs": []
    },
    {
      "cell_type": "code",
      "source": [
        "def deepfool_multiclass(model, x, epochs, eta, clip_min, clip_max, min_prob):\n",
        "    \"\"\"\n",
        "    Applies the DeepFool attack to a multiclass classifier.\n",
        "    \n",
        "    Arguments:\n",
        "        model: A multiclass TensorFlow Keras model.\n",
        "        x: The input image to attack.\n",
        "        epochs: The number of epochs to run the attack for.\n",
        "        eta: The step size for the attack.\n",
        "        clip_min: The minimum pixel value allowed.\n",
        "        clip_max: The maximum pixel value allowed.\n",
        "        min_prob: The minimum probability of the target class allowed.\n",
        "        \n",
        "    Returns:\n",
        "        An adversarial example for the input image.\n",
        "    \"\"\"\n",
        "    \n",
        "    x_adv = tf.identity(x)  # Start with a copy of the input image\n",
        "    \n",
        "    for _ in range(epochs):\n",
        "        # Compute the gradient of the loss with respect to the input\n",
        "        with tf.GradientTape() as tape:\n",
        "            tape.watch(x_adv)\n",
        "            logits = model(x_adv, training=False)\n",
        "            loss = tf.keras.losses.categorical_crossentropy(tf.one_hot(tf.argmax(logits, axis=-1), logits.shape[-1]),\n",
        "                                                             logits, from_logits=True)\n",
        "        grad = tape.gradient(loss, x_adv)\n",
        "\n",
        "        # Choose the minimum perturbation direction\n",
        "        min_perturbation = float('inf')\n",
        "        min_adv = None\n",
        "        for target in range(logits.shape[-1]):\n",
        "            if logits[0][target] > min_prob:\n",
        "                w = tf.reshape(model.weights[0][:, target], [-1])\n",
        "                f = tf.reduce_sum(tf.reshape(x_adv, [-1]) * w) + model.weights[1][target]\n",
        "                f_prime = tf.reduce_sum(w * tf.reshape(grad, [-1]))\n",
        "                perturbation = tf.abs((f - f_prime) / tf.norm(w)**2) * tf.reshape(w, [1, -1])\n",
        "                perturbation_norm = tf.norm(tf.reshape(perturbation, [-1]))\n",
        "                if perturbation_norm < min_perturbation:\n",
        "                    min_perturbation = perturbation_norm\n",
        "                    min_adv = x_adv + eta * tf.clip_by_value(tf.reshape(perturbation, tf.shape(x_adv)), clip_min, clip_max) / perturbation_norm\n",
        "\n",
        "        # Update the adversarial example\n",
        "        x_adv = tf.clip_by_value(min_adv, clip_min, clip_max)\n",
        "\n",
        "    return x_adv"
      ],
      "metadata": {
        "id": "qVMsUOCmnAwR"
      },
      "execution_count": 124,
      "outputs": []
    },
    {
      "cell_type": "code",
      "source": [],
      "metadata": {
        "id": "4LYL-kK72RYO"
      },
      "execution_count": 124,
      "outputs": []
    },
    {
      "cell_type": "code",
      "source": [
        "model,test_images,test_labels,train_images = train_model()\n"
      ],
      "metadata": {
        "colab": {
          "base_uri": "https://localhost:8080/"
        },
        "id": "bzPvSGcBkQWn",
        "outputId": "4c8ee6de-0109-480f-ea41-b6e3371a9cc0"
      },
      "execution_count": 126,
      "outputs": [
        {
          "output_type": "stream",
          "name": "stdout",
          "text": [
            "Epoch 1/5\n",
            "1875/1875 [==============================] - 9s 4ms/step - loss: 0.1249 - accuracy: 0.9621 - val_loss: 0.0499 - val_accuracy: 0.9833\n",
            "Epoch 2/5\n",
            "1875/1875 [==============================] - 12s 6ms/step - loss: 0.0409 - accuracy: 0.9874 - val_loss: 0.0399 - val_accuracy: 0.9865\n",
            "Epoch 3/5\n",
            "1875/1875 [==============================] - 12s 7ms/step - loss: 0.0281 - accuracy: 0.9910 - val_loss: 0.0275 - val_accuracy: 0.9903\n",
            "Epoch 4/5\n",
            "1875/1875 [==============================] - 7s 4ms/step - loss: 0.0208 - accuracy: 0.9933 - val_loss: 0.0334 - val_accuracy: 0.9892\n",
            "Epoch 5/5\n",
            "1875/1875 [==============================] - 8s 4ms/step - loss: 0.0148 - accuracy: 0.9952 - val_loss: 0.0278 - val_accuracy: 0.9910\n"
          ]
        }
      ]
    },
    {
      "cell_type": "code",
      "source": [
        "test_loss, test_acc = model.evaluate(test_images,test_labels, verbose=2)\n",
        "print(\"Test accuracy:\", test_acc)"
      ],
      "metadata": {
        "colab": {
          "base_uri": "https://localhost:8080/"
        },
        "id": "fH6fFqvZkT2s",
        "outputId": "8419b583-c553-492f-86bb-ed63d1a79831"
      },
      "execution_count": 127,
      "outputs": [
        {
          "output_type": "stream",
          "name": "stdout",
          "text": [
            "313/313 - 1s - loss: 0.0278 - accuracy: 0.9910 - 656ms/epoch - 2ms/step\n",
            "Test accuracy: 0.9909999966621399\n"
          ]
        }
      ]
    },
    {
      "cell_type": "code",
      "source": [
        "def test(model, x_test, y_test, num_examples=10, eps=0.1):\n",
        "    \"\"\"\n",
        "    Test the accuracy of the model on clean and adversarial examples generated using the DeepFool attack.\n",
        "    \n",
        "    Parameters:\n",
        "        model (tf.keras.Model): The trained multiclass classification model to be tested.\n",
        "        x_test (numpy.ndarray): The test set of input images.\n",
        "        y_test (numpy.ndarray): The test set of target labels.\n",
        "        num_examples (int): The number of examples to test on.\n",
        "        eps (float): The epsilon value for generating the adversarial examples.\n",
        "        \n",
        "    Returns:\n",
        "        float: The accuracy of the model on the test set.\n",
        "    \"\"\"\n",
        "    # Initialize the number of correctly classified examples\n",
        "    num_correct_clean = 0\n",
        "    num_correct_adv = 0\n",
        "\n",
        "    # Loop over the test set\n",
        "    for i in range(num_examples):\n",
        "        # Choose a random test example\n",
        "        # print(\"check1\")\n",
        "        x = x_test[i]\n",
        "        # print(\"check2\")\n",
        "        y_true = y_test[i]\n",
        "        # print(\"check\")\n",
        "        # Generate adversarial example using DeepFool attack\n",
        "        # adv_x = deepfool_multiclass(model, x, epochs=3, eta=0.01, clip_min=0.0, clip_max=1.0, min_prob=0.5)\n",
        "        # print(\"check3\")\n",
        "        adv_x=deep_fool_attack(model,x)\n",
        "        # Evaluate model on clean example\n",
        "        y_pred_clean = model.predict(tf.reshape(x, (1, *x.shape)))\n",
        "        y_pred_clean = tf.argmax(tf.nn.softmax(y_pred_clean), axis=-1).numpy()[0]\n",
        "        if y_pred_clean == y_true:\n",
        "            num_correct_clean += 1\n",
        "\n",
        "        # Evaluate model on adversarial example\n",
        "        y_pred_adv = model.predict(tf.reshape(adv_x, (1, *adv_x.shape)))\n",
        "        y_pred_adv = tf.argmax(tf.nn.softmax(y_pred_adv), axis=-1).numpy()[0]\n",
        "        if y_pred_adv == y_true:\n",
        "            num_correct_adv += 1\n",
        "\n",
        "        # Print results for this example\n",
        "        print(\"Example {}:\".format(i))\n",
        "        print(\"True label:\", y_true)\n",
        "        print(\"Predicted label for original image:\", y_pred_clean)\n",
        "        print(\"Predicted label for adversarial image:\", y_pred_adv)\n",
        "        # print(\"L-infinity norm of perturbation:\", np.max(np.abs(adv_x - x)))\n",
        "        print(\"\")\n",
        "\n",
        "    # Calculate the accuracy on clean examples and adversarial examples\n",
        "    acc_clean = num_correct_clean / num_examples\n",
        "    acc_adv = num_correct_adv / num_examples\n",
        "\n",
        "    # Print the overall accuracy on clean and adversarial examples\n",
        "    print(\"Accuracy on clean examples: {:.2%}\".format(acc_clean))\n",
        "    print(\"Accuracy on adversarial examples: {:.2%}\".format(acc_adv))\n",
        "\n",
        "    return acc_clean, acc_adv\n"
      ],
      "metadata": {
        "id": "er0Y8BRmh30y"
      },
      "execution_count": 128,
      "outputs": []
    },
    {
      "cell_type": "code",
      "source": [
        "print(test_images.shape)\n",
        "# test_images = test_images.reshape(-1, 28, 28, 1)\n",
        "# print(test_images.shape)\n"
      ],
      "metadata": {
        "id": "3dI5SwVCkDii",
        "colab": {
          "base_uri": "https://localhost:8080/"
        },
        "outputId": "f63bb10e-a17e-4475-cffd-715f8f4e54b3"
      },
      "execution_count": 129,
      "outputs": [
        {
          "output_type": "stream",
          "name": "stdout",
          "text": [
            "(10000, 28, 28, 1)\n"
          ]
        }
      ]
    },
    {
      "cell_type": "code",
      "source": [
        "acc_clean, acc_adv=test(model, test_images, test_labels)"
      ],
      "metadata": {
        "id": "9Tb1_HJ3sroU"
      },
      "execution_count": null,
      "outputs": []
    }
  ]
}
