
{
  "nbformat": 4,
  "nbformat_minor": 0,
  "metadata": {
    "colab": {
      "provenance": [],
      "authorship_tag": "ABX9TyOTShh0ZdctRfhTOgleyR5W",
      "include_colab_link": true
    },
    "kernelspec": {
      "name": "python3",
      "display_name": "Python 3"
    },
    "language_info": {
      "name": "python"
    },
    "accelerator": "GPU",
    "gpuClass": "standard"
  },
  "cells": [
    {
      "cell_type": "markdown",
      "metadata": {
        "id": "view-in-github",
        "colab_type": "text"
      },
      "source": [
        "<a href=\"https://colab.research.google.com/github/Sugandh-Mishra/attacks/blob/main/jsma.ipynb\" target=\"_parent\"><img src=\"https://colab.research.google.com/assets/colab-badge.svg\" alt=\"Open In Colab\"/></a>"
      ]
    },
    {
      "cell_type": "code",
      "source": [
        "import tensorflow as tf\n",
        "from tensorflow import keras\n",
        "from matplotlib import pyplot as plt\n",
        "from tensorflow.keras import layers, models, datasets\n",
        "import numpy as np"
      ],
      "metadata": {
        "id": "Sql34NVi8HfR"
      },
      "execution_count": null,
      "outputs": []
    },
    {
      "cell_type": "code",
      "source": [
        "def train_model():\n",
        "    (train_images, train_labels), (test_images, test_labels) = datasets.mnist.load_data()\n",
        "    train_images = train_images.reshape((60000, 28, 28, 1)).astype('float32') / 255.0\n",
        "    test_images = test_images.reshape((10000, 28, 28, 1)).astype('float32') / 255.0\n",
        "    \n",
        "    model = models.Sequential([\n",
        "        layers.Conv2D(32, (3, 3), activation='relu', input_shape=(28, 28, 1)),\n",
        "        layers.MaxPooling2D((2, 2)),\n",
        "        layers.Conv2D(64, (3, 3), activation='relu',padding='same'),\n",
        "        layers.MaxPooling2D((2, 2)),\n",
        "        layers.Flatten(),\n",
        "        layers.Dense(128, activation='relu'),\n",
        "        layers.Dense(10, activation='softmax')\n",
        "    ])\n",
        "\n",
        "    model.compile(optimizer='adam',\n",
        "                  loss='sparse_categorical_crossentropy',\n",
        "                  metrics=['accuracy'])\n",
        "\n",
        "    model.fit(train_images, train_labels, epochs=2, validation_data=(test_images, test_labels))\n",
        "  \n",
        "    return model, test_images, test_labels, train_images"
      ],
      "metadata": {
        "id": "du63hplh93Ig"
      },
      "execution_count": null,
      "outputs": []
    },
    {
      "cell_type": "code",
      "source": [
        "# Train the model\n",
        "model, x_test, y_test, x_train = train_model()\n"
      ],
      "metadata": {
        "id": "SH7GVsdu-JBQ"
      },
      "execution_count": null,
      "outputs": []
    },
    {
      "cell_type": "code",
      "source": [
        "def jsma_attack(model, x, y, epsilon=0.1, max_iters=100):\n",
        "    perturbed_x = tf.identity(x)\n",
        "    for _ in range(max_iters):\n",
        "        with tf.GradientTape() as tape:\n",
        "            tape.watch(perturbed_x)\n",
        "            predictions = model(perturbed_x)\n",
        "            loss = tf.keras.losses.sparse_categorical_crossentropy(y, predictions)\n",
        "        \n",
        "        gradients = tape.gradient(loss, perturbed_x)\n",
        "        gradients = tf.sign(gradients)\n",
        "        perturbed_x = perturbed_x + epsilon * gradients\n",
        "        perturbed_x = tf.clip_by_value(perturbed_x, clip_value_min=x-epsilon, clip_value_max=x+epsilon)\n",
        "        \n",
        "    return perturbed_x"
      ],
      "metadata": {
        "id": "mLOsWyWZ_evM"
      },
      "execution_count": null,
      "outputs": []
    },
    {
      "cell_type": "code",
      "source": [
        "def test_perturbed_images(model, x, y, epsilon=0.1, max_iters=100):\n",
        "    perturbed_images = jsma_attack(model, x, y, epsilon, max_iters)\n",
        "    predictions = model(perturbed_images)\n",
        "    success_rate = np.mean(tf.argmax(predictions, axis=-1) == tf.argmax(y_test, axis=-1))\n",
        "\n",
        "    # success_rate = np.mean(tf.argmax(predictions, axis=1) == tf.argmax(y, axis=1))\n",
        "    return success_rate,perturbed_images"
      ],
      "metadata": {
        "id": "KCRsqWxaCrkx"
      },
      "execution_count": null,
      "outputs": []
    },
    {
      "cell_type": "code",
      "source": [
        "#  Perform JSMA attack and test perturbed images\n",
        "epsilon = 0.1\n",
        "max_iters = 100\n",
        "success_rate,perturbed_images = test_perturbed_images(model, x_test, y_test, epsilon, max_iters)\n"
      ],
      "metadata": {
        "id": "JovLRkpHAnu0"
      },
      "execution_count": 19,
      "outputs": []
    },
    {
      "cell_type": "code",
      "source": [
        "\n",
        "print(\"Original Image - True Label: {}\".format(tf.argmax(y_test, axis=-1)))\n",
        "print(\"Perturbed Image - Predicted Label: {}\".format(tf.argmax(model(perturbed_images), axis=-1)))\n",
        "print(\"Success Rate of JSMA Attack: {:.2f}%\".format(success_rate * 100))\n"
      ],
      "metadata": {
        "id": "rjZJ7hzGB3Un",
        "colab": {
          "base_uri": "https://localhost:8080/"
        },
        "outputId": "13b1fe2b-fd71-47ff-a476-589046f48dc6"
      },
      "execution_count": 20,
      "outputs": [
        {
          "output_type": "stream",
          "name": "stdout",
          "text": [
            "Original Image - True Label: 7\n",
            "Perturbed Image - Predicted Label: [3 1 7 ... 9 8 5]\n",
            "Success Rate of JSMA Attack: 7.20%\n"
          ]
        }
      ]
    },
    {
      "cell_type": "code",
      "source": [],
      "metadata": {
        "id": "1MIAjFUhEH0P"
      },
      "execution_count": null,
      "outputs": []
    },
    {
      "cell_type": "code",
      "source": [],
      "metadata": {
        "id": "SRy_nBHNFvqW"
      },
      "execution_count": null,
      "outputs": []
    }
  ]
}
